{
  "nbformat": 4,
  "nbformat_minor": 0,
  "metadata": {
    "colab": {
      "name": "Linear_Regression.ipynb",
      "provenance": [],
      "collapsed_sections": []
    },
    "kernelspec": {
      "name": "python3",
      "display_name": "Python 3"
    }
  },
  "cells": [
    {
      "cell_type": "markdown",
      "metadata": {
        "id": "90-i9niMfdgd"
      },
      "source": [
        "# Linear Regression\n",
        "\n",
        "\n",
        "$$\n",
        "y = \\beta_0 + \\beta_1 x + \\epsilon\n",
        "$$"
      ]
    },
    {
      "cell_type": "code",
      "metadata": {
        "id": "KrHkER4efULh"
      },
      "source": [
        "%matplotlib inline\n",
        "import math\n",
        "import matplotlib.pyplot as plt\n",
        "import seaborn as sns; sns.set()\n",
        "import numpy as np"
      ],
      "execution_count": null,
      "outputs": []
    },
    {
      "cell_type": "code",
      "metadata": {
        "id": "C1-VkkBpjwuM"
      },
      "source": [
        "beta='\\N{greek small letter beta}'"
      ],
      "execution_count": null,
      "outputs": []
    },
    {
      "cell_type": "markdown",
      "metadata": {
        "id": "ZopKHWxdc6pm"
      },
      "source": [
        "Create data set"
      ]
    },
    {
      "cell_type": "code",
      "metadata": {
        "id": "AghElVUwfnwr",
        "colab": {
          "base_uri": "https://localhost:8080/",
          "height": 268
        },
        "outputId": "86ace4d7-0a6a-40cc-ca83-826f26f26d36"
      },
      "source": [
        "n_sample =15\n",
        "rng = np.random.RandomState()\n",
        "x = 10 * rng.rand(n_sample)\n",
        "y = -3 * x + 10 + 1*rng.randn(n_sample)\n",
        "plt.scatter(x, y, c='g');"
      ],
      "execution_count": null,
      "outputs": [
        {
          "output_type": "display_data",
          "data": {
            "image/png": "[encoded data removed]",
            "text/plain": [
              "<Figure size 432x288 with 1 Axes>"
            ]
          },
          "metadata": {
            "tags": []
          }
        }
      ]
    },
    {
      "cell_type": "markdown",
      "metadata": {
        "id": "F3DB_oP1f8T9"
      },
      "source": [
        "Use Scikit-Learn's LinearRegression for estimationg the regression parameters"
      ]
    },
    {
      "cell_type": "code",
      "metadata": {
        "id": "Jfy6SfYYgELt",
        "colab": {
          "base_uri": "https://localhost:8080/",
          "height": 268
        },
        "outputId": "92f0e81d-4e90-4bcd-ca4f-24a8eb97c376"
      },
      "source": [
        "from sklearn.linear_model import LinearRegression\n",
        "model = LinearRegression(fit_intercept=True)\n",
        "\n",
        "model.fit(x[:, np.newaxis], y)\n",
        "x_min = math.floor(min(x))\n",
        "x_max = math.ceil(max(x))\n",
        "xfit = np.linspace(x_min, x_max, 1000)\n",
        "yfit = model.predict(xfit[:, np.newaxis])\n",
        "\n",
        "plt.scatter(x, y)\n",
        "plt.plot(xfit, yfit, c='r');"
      ],
      "execution_count": null,
      "outputs": [
        {
          "output_type": "display_data",
          "data": {
            "image/png": "[encoded data removed]",
            "text/plain": [
              "<Figure size 432x288 with 1 Axes>"
            ]
          },
          "metadata": {
            "tags": []
          }
        }
      ]
    },
    {
      "cell_type": "code",
      "metadata": {
        "id": "v9Ddlo4liAfD",
        "colab": {
          "base_uri": "https://localhost:8080/",
          "height": 54
        },
        "outputId": "a757320a-2b54-4c37-a735-78a3a1e80b72"
      },
      "source": [
        "print(beta+\"1\"+\": \", model.coef_[0])\n",
        "print(beta+\"0\"+\": \", model.intercept_)"
      ],
      "execution_count": null,
      "outputs": [
        {
          "output_type": "stream",
          "text": [
            "β1:  -2.983994778235922\n",
            "β0:  9.890400726608387\n"
          ],
          "name": "stdout"
        }
      ]
    },
    {
      "cell_type": "code",
      "metadata": {
        "id": "0glmecU8kQ1G"
      },
      "source": [
        ""
      ],
      "execution_count": null,
      "outputs": []
    }
  ]
}